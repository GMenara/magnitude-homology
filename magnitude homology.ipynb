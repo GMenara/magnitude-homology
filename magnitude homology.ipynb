{
 "cells": [
  {
   "cell_type": "code",
   "execution_count": 1,
   "metadata": {},
   "outputs": [],
   "source": [
    "from sage.all import *\n",
    "\n",
    "from sage.graphs.graph import Graph\n",
    "from sage.graphs.distances_all_pairs import distances_all_pairs\n",
    "from sage.homology.chain_complex import ChainComplex\n",
    "\n",
    "from sage.graphs.graph_generators import GraphGenerators\n",
    "graphs = GraphGenerators()\n",
    "\n",
    "from sage.matrix.constructor import Matrix\n",
    "matrix = Matrix()\n",
    "\n",
    "from sage.rings.integer_ring import IntegerRing\n",
    "from sage.rings.rational_field import RationalField\n",
    "from sage.rings.finite_rings.finite_field_constructor import FiniteFieldFactory\n",
    "BaseRing = RationalField()\n",
    "\n",
    "import numpy as np"
   ]
  },
  {
   "cell_type": "code",
   "execution_count": 2,
   "metadata": {},
   "outputs": [],
   "source": [
    "def magnitude_homology(g,lmax):\n",
    "\n",
    "    kmax = lmax +1\n",
    "\n",
    "    d = distances_all_pairs(g) #This function returns a double dictionary D of vertices, \n",
    "                                #in which the distance between vertices u and v is D[u][v].\n",
    "    #print(d)\n",
    "    #print(type(d))\n",
    "\n",
    "    # populate the generators recursively\n",
    "    # We use the fact that a chain group MC_{*,*}(G) breaks up into subgroups MC_{k,l}^{a,b}(G),\n",
    "    # where s and t are the initial and terminal vertices of the chain, l is the length of the chain and k is the degree.\n",
    "    # So generators[a,b,k,l] is a list of the degree k generators of a chain group.\n",
    "    generators = dict(((a,b,k,l),[]) for a in g.vertices() for b in g.vertices() for k in range(kmax+2) for l in range(lmax+1))\n",
    "     \n",
    "    def add_generators(p,l,x):\n",
    "        k = len(p)-1\n",
    "        if k<=kmax and l<=lmax:\n",
    "            generators[(p[0],p[len(p)-1],k,l)].append(p)\n",
    "            #print(generators)\n",
    "            #print(type(generators[(a[0],a[len(a)-1],k,l)]))\n",
    "            for y in g.vertices():\n",
    "                if x != y:\n",
    "                    #print(d[x][y])\n",
    "                    add_generators(p+[y],l+d[x][y],y)\n",
    "        \n",
    "                    \n",
    "    for x in g.vertices():\n",
    "        add_generators([x],0,x)\n",
    "    \n",
    "    #print(generators)\n",
    "      \n",
    "\n",
    "    # number the generators, so as to produce differentials rapidly\n",
    "    for a in g.vertices():\n",
    "        for b in g.vertices():\n",
    "            for l in range(lmax+1):\n",
    "                for k in range(kmax+1):\n",
    "                    generators[(a,b,k,l)] = dict((tuple(p),i) for (i,p) in enumerate(generators[(a,b,k,l)]))\n",
    "                    #print(generators[(a,b,k,l)])\n",
    "    \n",
    "        \n",
    "    def differential(a,b,k,l):\n",
    "        m = {}\n",
    "        h = generators[(a,b,k-1,l)]\n",
    "        #print(h)\n",
    "        #print('len(h)',len(h))\n",
    "        for (p,i) in generators[(a,b,k,l)].items():\n",
    "            #print((p,i))\n",
    "            for z in range(len(p)-2):\n",
    "                if d[p[z]][p[z+1]] + d[p[z+1]][p[z+2]] == d[p[z]][p[z+2]]:\n",
    "                    j = h[p[:z+1]+p[z+2:]]\n",
    "                    if z%2:\n",
    "                        m[(j,i)] = m.get((j,i),0) + 1\n",
    "                    else:\n",
    "                        m[(j,i)] = m.get((j,i),0) - 1\n",
    "        print('m',m)\n",
    "        \n",
    "        #dataMatrix = np.array([tuple(p) for (i,p) in enumerate(generators[(a,b,k-1,l)])])\n",
    "        #print ('datamatrix',dataMatrix)\n",
    "                #print('len(h)',len(h))\n",
    "                #print('len(generators[(a,b,k,l)])',len(generators[(a,b,k,l)]))\n",
    "                #print(matrix(BaseRing, len(h), len(generators[(a,b,k,l)]), m))\n",
    "        #print(matrix(BaseRing, len(h), len(generators[(a,b,k,l)]), m).dimensions())\n",
    "        \n",
    "        return matrix(BaseRing, len(h), len(generators[(a,b,k,l)]), m)\n",
    "        #return dataMatrix\n",
    "    \n",
    "            \n",
    "        \n",
    "    def chains(a,b,l):\n",
    "        differentials = dict((k,differential(a,b,k,l)) for k in range(1,kmax+1) if generators[(a,b,k,l)] or generators[(a,b,k-1,l)])\n",
    "        #print('differentials:', differentials)\n",
    "        return ChainComplex(differentials, base_ring=BaseRing, degree=-1)\n",
    "\n",
    "\n",
    "\n",
    "\n",
    "    def homology(a,b,l):\n",
    "        #print('homology', chains(a,b,l).homology(generators=True))\n",
    "        return chains(a,b,l).homology(generators=True)\n",
    "\n",
    "    return dict(((a,b,l),homology(a,b,l)) for s in g.vertices() for t in g.vertices() for l in range(lmax+1))"
   ]
  },
  {
   "cell_type": "code",
   "execution_count": 3,
   "metadata": {},
   "outputs": [
    {
     "data": {
      "image/png": "[encoded data removed]",
      "text/plain": [
       "Graphics object consisting of 10 graphics primitives"
      ]
     },
     "metadata": {},
     "output_type": "display_data"
    }
   ],
   "source": [
    "g = Graph([(1,2),(2,3),(3,4),(4,1),(3,1)])\n",
    "#g = graphs.CycleGraph(3)\n",
    "#g = graphs.PetersenGraph()\n",
    "graph_name = \"G\"\n",
    "g.show()"
   ]
  },
  {
   "cell_type": "code",
   "execution_count": 4,
   "metadata": {},
   "outputs": [
    {
     "name": "stdout",
     "output_type": "stream",
     "text": [
      "G\n",
      "lmax= 6\n"
     ]
    },
    {
     "ename": "NameError",
     "evalue": "name 'a' is not defined",
     "output_type": "error",
     "traceback": [
      "\u001b[0;31m---------------------------------------------------------------------------\u001b[0m",
      "\u001b[0;31mNameError\u001b[0m                                 Traceback (most recent call last)",
      "\u001b[0;32m<ipython-input-4-c4d7d5c020d6>\u001b[0m in \u001b[0;36m<module>\u001b[0;34m\u001b[0m\n\u001b[1;32m      4\u001b[0m \u001b[0mprint\u001b[0m\u001b[0;34m(\u001b[0m\u001b[0;34m'lmax='\u001b[0m\u001b[0;34m,\u001b[0m \u001b[0mlmax\u001b[0m\u001b[0;34m)\u001b[0m\u001b[0;34m\u001b[0m\u001b[0;34m\u001b[0m\u001b[0m\n\u001b[1;32m      5\u001b[0m \u001b[0;34m\u001b[0m\u001b[0m\n\u001b[0;32m----> 6\u001b[0;31m \u001b[0mhomology\u001b[0m \u001b[0;34m=\u001b[0m \u001b[0mmagnitude_homology\u001b[0m\u001b[0;34m(\u001b[0m\u001b[0mg\u001b[0m\u001b[0;34m,\u001b[0m\u001b[0mlmax\u001b[0m\u001b[0;34m)\u001b[0m\u001b[0;34m\u001b[0m\u001b[0;34m\u001b[0m\u001b[0m\n\u001b[0m\u001b[1;32m      7\u001b[0m \u001b[0;31m#print('homology:', homology)\u001b[0m\u001b[0;34m\u001b[0m\u001b[0;34m\u001b[0m\u001b[0;34m\u001b[0m\u001b[0m\n\u001b[1;32m      8\u001b[0m \u001b[0;34m\u001b[0m\u001b[0m\n",
      "\u001b[0;32m<ipython-input-2-1dc7c0c74891>\u001b[0m in \u001b[0;36mmagnitude_homology\u001b[0;34m(g, lmax)\u001b[0m\n\u001b[1;32m     12\u001b[0m     \u001b[0;31m# where s and t are the initial and terminal vertices of the chain, l is the length of the chain and k is the degree.\u001b[0m\u001b[0;34m\u001b[0m\u001b[0;34m\u001b[0m\u001b[0;34m\u001b[0m\u001b[0m\n\u001b[1;32m     13\u001b[0m     \u001b[0;31m# So generators[a,b,k,l] is a list of the degree k generators of a chain group.\u001b[0m\u001b[0;34m\u001b[0m\u001b[0;34m\u001b[0m\u001b[0;34m\u001b[0m\u001b[0m\n\u001b[0;32m---> 14\u001b[0;31m     \u001b[0mgenerators\u001b[0m \u001b[0;34m=\u001b[0m \u001b[0mdict\u001b[0m\u001b[0;34m(\u001b[0m\u001b[0;34m(\u001b[0m\u001b[0;34m(\u001b[0m\u001b[0ma\u001b[0m\u001b[0;34m,\u001b[0m\u001b[0mb\u001b[0m\u001b[0;34m,\u001b[0m\u001b[0mk\u001b[0m\u001b[0;34m,\u001b[0m\u001b[0ml\u001b[0m\u001b[0;34m)\u001b[0m\u001b[0;34m,\u001b[0m\u001b[0;34m[\u001b[0m\u001b[0;34m]\u001b[0m\u001b[0;34m)\u001b[0m \u001b[0;32mfor\u001b[0m \u001b[0ms\u001b[0m \u001b[0;32min\u001b[0m \u001b[0mg\u001b[0m\u001b[0;34m.\u001b[0m\u001b[0mvertices\u001b[0m\u001b[0;34m(\u001b[0m\u001b[0;34m)\u001b[0m \u001b[0;32mfor\u001b[0m \u001b[0mt\u001b[0m \u001b[0;32min\u001b[0m \u001b[0mg\u001b[0m\u001b[0;34m.\u001b[0m\u001b[0mvertices\u001b[0m\u001b[0;34m(\u001b[0m\u001b[0;34m)\u001b[0m \u001b[0;32mfor\u001b[0m \u001b[0mk\u001b[0m \u001b[0;32min\u001b[0m \u001b[0mrange\u001b[0m\u001b[0;34m(\u001b[0m\u001b[0mkmax\u001b[0m\u001b[0;34m+\u001b[0m\u001b[0mInteger\u001b[0m\u001b[0;34m(\u001b[0m\u001b[0;36m2\u001b[0m\u001b[0;34m)\u001b[0m\u001b[0;34m)\u001b[0m \u001b[0;32mfor\u001b[0m \u001b[0ml\u001b[0m \u001b[0;32min\u001b[0m \u001b[0mrange\u001b[0m\u001b[0;34m(\u001b[0m\u001b[0mlmax\u001b[0m\u001b[0;34m+\u001b[0m\u001b[0mInteger\u001b[0m\u001b[0;34m(\u001b[0m\u001b[0;36m1\u001b[0m\u001b[0;34m)\u001b[0m\u001b[0;34m)\u001b[0m\u001b[0;34m)\u001b[0m\u001b[0;34m\u001b[0m\u001b[0;34m\u001b[0m\u001b[0m\n\u001b[0m\u001b[1;32m     15\u001b[0m \u001b[0;34m\u001b[0m\u001b[0m\n\u001b[1;32m     16\u001b[0m     \u001b[0;32mdef\u001b[0m \u001b[0madd_generators\u001b[0m\u001b[0;34m(\u001b[0m\u001b[0mp\u001b[0m\u001b[0;34m,\u001b[0m\u001b[0ml\u001b[0m\u001b[0;34m,\u001b[0m\u001b[0mx\u001b[0m\u001b[0;34m)\u001b[0m\u001b[0;34m:\u001b[0m\u001b[0;34m\u001b[0m\u001b[0;34m\u001b[0m\u001b[0m\n",
      "\u001b[0;32m<ipython-input-2-1dc7c0c74891>\u001b[0m in \u001b[0;36m<genexpr>\u001b[0;34m(.0)\u001b[0m\n\u001b[1;32m     12\u001b[0m     \u001b[0;31m# where s and t are the initial and terminal vertices of the chain, l is the length of the chain and k is the degree.\u001b[0m\u001b[0;34m\u001b[0m\u001b[0;34m\u001b[0m\u001b[0;34m\u001b[0m\u001b[0m\n\u001b[1;32m     13\u001b[0m     \u001b[0;31m# So generators[a,b,k,l] is a list of the degree k generators of a chain group.\u001b[0m\u001b[0;34m\u001b[0m\u001b[0;34m\u001b[0m\u001b[0;34m\u001b[0m\u001b[0m\n\u001b[0;32m---> 14\u001b[0;31m     \u001b[0mgenerators\u001b[0m \u001b[0;34m=\u001b[0m \u001b[0mdict\u001b[0m\u001b[0;34m(\u001b[0m\u001b[0;34m(\u001b[0m\u001b[0;34m(\u001b[0m\u001b[0ma\u001b[0m\u001b[0;34m,\u001b[0m\u001b[0mb\u001b[0m\u001b[0;34m,\u001b[0m\u001b[0mk\u001b[0m\u001b[0;34m,\u001b[0m\u001b[0ml\u001b[0m\u001b[0;34m)\u001b[0m\u001b[0;34m,\u001b[0m\u001b[0;34m[\u001b[0m\u001b[0;34m]\u001b[0m\u001b[0;34m)\u001b[0m \u001b[0;32mfor\u001b[0m \u001b[0ms\u001b[0m \u001b[0;32min\u001b[0m \u001b[0mg\u001b[0m\u001b[0;34m.\u001b[0m\u001b[0mvertices\u001b[0m\u001b[0;34m(\u001b[0m\u001b[0;34m)\u001b[0m \u001b[0;32mfor\u001b[0m \u001b[0mt\u001b[0m \u001b[0;32min\u001b[0m \u001b[0mg\u001b[0m\u001b[0;34m.\u001b[0m\u001b[0mvertices\u001b[0m\u001b[0;34m(\u001b[0m\u001b[0;34m)\u001b[0m \u001b[0;32mfor\u001b[0m \u001b[0mk\u001b[0m \u001b[0;32min\u001b[0m \u001b[0mrange\u001b[0m\u001b[0;34m(\u001b[0m\u001b[0mkmax\u001b[0m\u001b[0;34m+\u001b[0m\u001b[0mInteger\u001b[0m\u001b[0;34m(\u001b[0m\u001b[0;36m2\u001b[0m\u001b[0;34m)\u001b[0m\u001b[0;34m)\u001b[0m \u001b[0;32mfor\u001b[0m \u001b[0ml\u001b[0m \u001b[0;32min\u001b[0m \u001b[0mrange\u001b[0m\u001b[0;34m(\u001b[0m\u001b[0mlmax\u001b[0m\u001b[0;34m+\u001b[0m\u001b[0mInteger\u001b[0m\u001b[0;34m(\u001b[0m\u001b[0;36m1\u001b[0m\u001b[0;34m)\u001b[0m\u001b[0;34m)\u001b[0m\u001b[0;34m)\u001b[0m\u001b[0;34m\u001b[0m\u001b[0;34m\u001b[0m\u001b[0m\n\u001b[0m\u001b[1;32m     15\u001b[0m \u001b[0;34m\u001b[0m\u001b[0m\n\u001b[1;32m     16\u001b[0m     \u001b[0;32mdef\u001b[0m \u001b[0madd_generators\u001b[0m\u001b[0;34m(\u001b[0m\u001b[0mp\u001b[0m\u001b[0;34m,\u001b[0m\u001b[0ml\u001b[0m\u001b[0;34m,\u001b[0m\u001b[0mx\u001b[0m\u001b[0;34m)\u001b[0m\u001b[0;34m:\u001b[0m\u001b[0;34m\u001b[0m\u001b[0;34m\u001b[0m\u001b[0m\n",
      "\u001b[0;31mNameError\u001b[0m: name 'a' is not defined"
     ]
    }
   ],
   "source": [
    "lmax = 6\n",
    "\n",
    "print(graph_name)\n",
    "print('lmax=', lmax)\n",
    "\n",
    "homology = magnitude_homology(g,lmax)\n",
    "#print('homology:', homology)\n",
    "\n",
    "total_rank = dict(((k,l),0) for k in range(0,lmax+1) for l in range(0, lmax+1))\n",
    "\n",
    "#print('total rank:', total_rank)\n",
    "\n",
    "for a in g.vertices():\n",
    "    for b in g.vertices():\n",
    "        for l in range(lmax+1):\n",
    "            sorted(homology[a,b,l].items())\n",
    "            #print(list(homology[s,t,l].items()))\n",
    "            for degree, group in homology[a,b,l].items(): \n",
    "                #print(total_rank[degree,l])\n",
    "                total_rank[degree,l] += group.rank()\n",
    "                #print(total_rank[degree,l])\n",
    "\n",
    "\n",
    "for l in range(0,lmax+1):\n",
    "    print(l,':')\n",
    "    for k in range(0,lmax+1):\n",
    "        if total_rank[k,l] != 0:\n",
    "            print(total_rank[k,l])\n",
    "        #else:\n",
    "        #    print('      ')"
   ]
  },
  {
   "cell_type": "code",
   "execution_count": null,
   "metadata": {},
   "outputs": [],
   "source": []
  }
 ],
 "metadata": {
  "kernelspec": {
   "display_name": "SageMath 9.3",
   "language": "sage",
   "name": "sagemath"
  },
  "language_info": {
   "codemirror_mode": {
    "name": "ipython",
    "version": 3
   },
   "file_extension": ".py",
   "mimetype": "text/x-python",
   "name": "python",
   "nbconvert_exporter": "python",
   "pygments_lexer": "ipython3",
   "version": "3.7.10"
  }
 },
 "nbformat": 4,
 "nbformat_minor": 4
}
