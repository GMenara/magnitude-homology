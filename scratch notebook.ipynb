{
 "cells": [
  {
   "cell_type": "code",
   "execution_count": 5,
   "metadata": {},
   "outputs": [],
   "source": [
    "using PyCall\n",
    "nx = pyimport(\"networkx\")\n",
    "np = pyimport(\"numpy\")\n",
    "\n",
    "using IterTools\n",
    "using Eirene"
   ]
  },
  {
   "cell_type": "code",
   "execution_count": 6,
   "metadata": {},
   "outputs": [
    {
     "data": {
      "text/plain": [
       "3"
      ]
     },
     "metadata": {},
     "output_type": "display_data"
    }
   ],
   "source": [
    "graph=nx.cycle_graph(8)\n",
    "graph.add_edge(2,6)\n",
    "k=2\n",
    "l=3"
   ]
  },
  {
   "cell_type": "code",
   "execution_count": 7,
   "metadata": {},
   "outputs": [
    {
     "name": "stdout",
     "output_type": "stream",
     "text": [
      "Any[0, 1, 2, 3, 4, 5, 6, 7]\n"
     ]
    }
   ],
   "source": [
    "vtx=collect(graph.nodes())\n",
    "println(vtx)"
   ]
  },
  {
   "cell_type": "code",
   "execution_count": 8,
   "metadata": {},
   "outputs": [
    {
     "name": "stdout",
     "output_type": "stream",
     "text": [
      "Array{Int64,N} where N[[0, 1, 3], [0, 1, 6], [0, 1, 7], [0, 2, 1], [0, 2, 3], [0, 2, 6], [0, 6, 2], [0, 6, 5], [0, 6, 7], [0, 7, 1], [0, 7, 2], [0, 7, 5], [1, 0, 2], [1, 0, 6], [1, 2, 0], [1, 2, 4], [1, 2, 5], [1, 2, 7], [1, 3, 2], [1, 3, 4], [1, 6, 2], [1, 6, 5], [1, 6, 7], [1, 7, 0], [1, 7, 6], [2, 0, 1], [2, 0, 7], [2, 1, 3], [2, 1, 6], [2, 1, 7], [2, 3, 1], [2, 3, 5], [2, 3, 6], [2, 4, 3], [2, 4, 5], [2, 5, 4], [2, 5, 6], [2, 6, 0], [2, 6, 1], [2, 6, 3], [2, 6, 4], [2, 7, 0], [2, 7, 6], [3, 1, 0], [3, 1, 2], [3, 2, 0], [3, 2, 4], [3, 2, 5], [3, 2, 7], [3, 4, 2], [3, 4, 6], [3, 5, 4], [3, 5, 6], [3, 6, 2], [3, 6, 5], [3, 6, 7], [4, 2, 1], [4, 2, 3], [4, 2, 6], [4, 3, 1], [4, 3, 5], [4, 3, 6], [4, 5, 2], [4, 5, 3], [4, 5, 7], [4, 6, 2], [4, 6, 5], [4, 6, 7], [5, 2, 1], [5, 2, 3], [5, 2, 6], [5, 3, 2], [5, 3, 4], [5, 4, 2], [5, 4, 6], [5, 6, 0], [5, 6, 1], [5, 6, 3], [5, 6, 4], [5, 7, 0], [5, 7, 6], [6, 0, 1], [6, 0, 7], [6, 1, 0], [6, 1, 2], [6, 2, 0], [6, 2, 4], [6, 2, 5], [6, 2, 7], [6, 3, 2], [6, 3, 4], [6, 4, 3], [6, 4, 5], [6, 5, 2], [6, 5, 3], [6, 5, 7], [6, 7, 1], [6, 7, 2], [6, 7, 5], [7, 0, 2], [7, 0, 6], [7, 1, 0], [7, 1, 2], [7, 2, 1], [7, 2, 3], [7, 2, 6], [7, 5, 4], [7, 5, 6], [7, 6, 0], [7, 6, 1], [7, 6, 3], [7, 6, 4]]\n",
      "112"
     ]
    },
    {
     "name": "stdout",
     "output_type": "stream",
     "text": [
      "\n"
     ]
    }
   ],
   "source": [
    "MC_kl = Array{Int64}[] \n",
    "for possible_chain in collect(Iterators.product([vtx for i=1:k+1]...))\n",
    "    possible_chain = collect(possible_chain)   \n",
    "    is_seq = true\n",
    "    for i in 1:k\n",
    "        if possible_chain[i] == possible_chain[i+1]\n",
    "            is_seq = false\n",
    "        end  \n",
    "    end\n",
    "    if is_seq == true   \n",
    "        length = 0\n",
    "        for i in 1:k\n",
    "            length = length + nx.shortest_path_length(graph, possible_chain[i], possible_chain[i + 1])\n",
    "            if length > l\n",
    "                break\n",
    "            end\n",
    "        end\n",
    "        if length == l\n",
    "            push!(MC_kl,possible_chain)\n",
    "        end\n",
    "    end                                 \n",
    "end\n",
    "sort!(MC_kl)\n",
    "println(MC_kl)\n",
    "println(length(MC_kl))"
   ]
  },
  {
   "cell_type": "code",
   "execution_count": 9,
   "metadata": {},
   "outputs": [
    {
     "name": "stdout",
     "output_type": "stream",
     "text": [
      "Array{Int64,N} where N[[0, 3], [0, 5], [1, 4], [1, 5], [3, 0], [3, 7], [4, 1], [4, 7], [5, 0], [5, 1], [7, 3], [7, 4]]\n",
      "12\n"
     ]
    }
   ],
   "source": [
    "MC_k_1l = Array{Int64}[] \n",
    "for possible_chain in collect(Iterators.product([vtx for i=1:k]...))\n",
    "    possible_chain = collect(possible_chain)    \n",
    "    is_seq = true\n",
    "    for i in 1:k-1\n",
    "        if possible_chain[i] == possible_chain[i + 1]\n",
    "            is_seq = false\n",
    "        end\n",
    "    end\n",
    "    if is_seq ==true\n",
    "        length = 0\n",
    "        for i in 1:k-1\n",
    "            length = length + nx.shortest_path_length(graph, possible_chain[i], possible_chain[i + 1])\n",
    "            if length > l\n",
    "                break\n",
    "            end\n",
    "        end\n",
    "        if length == l\n",
    "            push!(MC_k_1l,possible_chain)\n",
    "        end\n",
    "    end\n",
    "end            \n",
    "sort!(MC_k_1l)\n",
    "println(MC_k_1l)\n",
    "println(length(MC_k_1l))"
   ]
  },
  {
   "cell_type": "code",
   "execution_count": 10,
   "metadata": {},
   "outputs": [
    {
     "data": {
      "text/plain": [
       "(12, 112)"
      ]
     },
     "metadata": {},
     "output_type": "display_data"
    }
   ],
   "source": [
    "if length(MC_k_1l)==0\n",
    "    bdry_mtx = zeros((1, length(MC_kl)))\n",
    "elseif length(MC_kl)==0\n",
    "    bdry_mtx = zeros((length(MC_k_1l), 1))\n",
    "else\n",
    "    bdry_mtx = zeros((length(MC_k_1l), length(MC_kl)))\n",
    "end\n",
    "\n",
    "size(bdry_mtx)"
   ]
  },
  {
   "cell_type": "code",
   "execution_count": 11,
   "metadata": {},
   "outputs": [
    {
     "data": {
      "text/plain": [
       "1.0"
      ]
     },
     "metadata": {},
     "output_type": "display_data"
    }
   ],
   "source": [
    "for k_chain_idx in 1:length(MC_kl)\n",
    "    k_chain = MC_kl[k_chain_idx]\n",
    "    #println(k_chain)\n",
    "    for vertex_idx in 2:length(k_chain) - 1\n",
    "        #if removing a vertex does not change the length of a path\n",
    "        if nx.shortest_path_length(graph, k_chain[vertex_idx - 1], k_chain[vertex_idx + 1]) == nx.shortest_path_length(graph,k_chain[vertex_idx - 1],k_chain[vertex_idx]) + nx.shortest_path_length(graph, k_chain[vertex_idx], k_chain[vertex_idx + 1])\n",
    "            #if the k-tuple with the vertex removed is part of MC_{k-1,l}\n",
    "            kminus1_chain = collect(np.delete(k_chain, vertex_idx-1))\n",
    "            #println(kminus1_chain)\n",
    "            if kminus1_chain in MC_k_1l\n",
    "                #println(kminus1_chain)\n",
    "                #set the matrix entry to be -1\n",
    "                row_index = findfirst(x->x==kminus1_chain,MC_k_1l)\n",
    "                #println(\"want to change row:\", row_index)\n",
    "                #println(\"want to change clmn:\", k_chain_idx)\n",
    "                bdry_mtx[row_index, k_chain_idx] = (-1)^vertex_idx\n",
    "                #replace(bdry_mtx, bdry_mtx[row_index, k_chain_idx] => -1)\n",
    "            end\n",
    "        end\n",
    "    end\n",
    "end\n",
    "bdry_mtx[4,17] "
   ]
  },
  {
   "cell_type": "code",
   "execution_count": 12,
   "metadata": {},
   "outputs": [
    {
     "data": {
      "text/plain": [
       "3-element Array{Int64,1}:\n",
       " 0\n",
       " 2\n",
       " 1"
      ]
     },
     "metadata": {},
     "output_type": "display_data"
    }
   ],
   "source": [
    "chain = MC_kl[4] "
   ]
  },
  {
   "cell_type": "code",
   "execution_count": 13,
   "metadata": {},
   "outputs": [
    {
     "data": {
      "text/plain": [
       "2-element Array{Int64,1}:\n",
       " 0\n",
       " 1"
      ]
     },
     "metadata": {},
     "output_type": "display_data"
    }
   ],
   "source": [
    "np.delete(chain, 1)"
   ]
  },
  {
   "cell_type": "code",
   "execution_count": 15,
   "metadata": {},
   "outputs": [
    {
     "name": "stdout",
     "output_type": "stream",
     "text": [
      "[139879131438608, 139879131438656, 139879131438704, 139879131438752, 139879131438800, 139879131438848, 139879131438896, 139879131438944, 139879131438992, 139879131439040, 139879131439088, 139879131439136, 139879131439184, 139879131439232, 139879131439280, 139879131439328, 139879131439376, 139879131439520, 139879131439568, 139879131439616, 139879131439664, 139879131439712, 139879131439760, 139879131439808, 139879131439904, 139879131439952, 139879131440000, 139879131440048, 139879131440096, 139879131440144, 139879131440192, 139879131440240, 139879131440288, 139879131440336, 139879131440384, 139879131440432, 139879131440480, 139879131440528, 139879131440576, 139879131440624, 139879131440672, 139879131440720, 139879131440768, 139879131440816, 139879131440864, 139879131440912, 139879131440960, 139879131441008, 139879131441056, 139879131441104, 139879131441152, 139879131441248, 139879131441296, 139879131441344, 139879131441392, 139879131441440, 139879131441488, 139879131441536, 139879131441680, 139879131441728, 139879131441776, 139879131441824, 139879131441872, 139879131441920, 139879131441968, 139879131442016, 139879131442064, 139879131442112, 139879131442160, 139879131442208, 139879131442256, 139879131442304, 139879131442352, 139879131442400, 139879131442448, 139879131442496, 139879131442544, 139879131442592, 139879131442640, 139879131442688, 139879131442736, 139879131442784, 139879131442832, 139879131442880, 139879131442928, 139879131442976, 139879131443024, 139879131443072, 139879131443120, 139879131443168, 139879131443216, 139879131443264, 139879131443312, 139879131443360, 139879131443408, 139879131443456, 139879131443504, 139879131443552, 139879131443600, 139879131443648, 139879131443696, 139879131443744, 139879131443792, 139879131443840, 139879131443888, 139879131443936, 139879131443984, 139879131444032, 139879131444080, 139879131444224, 139879131444272, 139879131444320, 139879131444368, 139879131444416, 139879131444464, 139879131444512, 139879131444560, 139879131444608, 139879131444656, 139879131444704, 139879131444752, 139879131444800, 0, 0]\n"
     ]
    }
   ],
   "source": [
    "dv = Vector{Int}(undef,length(MC_k_1l)+length(MC_kl))\n",
    "println(dv)"
   ]
  },
  {
   "cell_type": "code",
   "execution_count": 21,
   "metadata": {},
   "outputs": [],
   "source": [
    "k=2\n",
    "for i in 1:length(MC_k_1l)\n",
    "    dv[i]=k\n",
    "end\n",
    "for i in length(MC_k_1l):length(MC_kl)\n",
    "    dv[i]=k+1\n",
    "end"
   ]
  },
  {
   "cell_type": "code",
   "execution_count": 30,
   "metadata": {},
   "outputs": [
    {
     "data": {
      "text/plain": [
       "1×124 Array{Float64,2}:\n",
       " 3.0  3.0  3.0  3.0  3.0  3.0  3.0  3.0  …  3.0  3.0  3.0  3.0  3.0  3.0  3.0"
      ]
     },
     "metadata": {},
     "output_type": "display_data"
    }
   ],
   "source": [
    "dv_k = (k+1)*ones(1,length(MC_k_1l)+length(MC_kl))"
   ]
  },
  {
   "cell_type": "code",
   "execution_count": 31,
   "metadata": {},
   "outputs": [],
   "source": [
    "for i in 1:length(MC_k_1l)\n",
    "    dv_k[i]=k\n",
    "end"
   ]
  },
  {
   "cell_type": "code",
   "execution_count": 32,
   "metadata": {},
   "outputs": [
    {
     "data": {
      "text/plain": [
       "1×124 Array{Float64,2}:\n",
       " 2.0  2.0  2.0  2.0  2.0  2.0  2.0  2.0  …  3.0  3.0  3.0  3.0  3.0  3.0  3.0"
      ]
     },
     "metadata": {},
     "output_type": "display_data"
    }
   ],
   "source": [
    "dv_k"
   ]
  },
  {
   "cell_type": "code",
   "execution_count": 33,
   "metadata": {},
   "outputs": [
    {
     "name": "stdout",
     "output_type": "stream",
     "text": [
      "4\n"
     ]
    }
   ],
   "source": [
    "B = [5 10; 15 20]\n",
    "v = size(B)\n",
    "println(v[1]+v[2])"
   ]
  },
  {
   "cell_type": "code",
   "execution_count": null,
   "metadata": {},
   "outputs": [],
   "source": []
  }
 ],
 "metadata": {
  "kernelspec": {
   "display_name": "Julia 1.4.1",
   "language": "julia",
   "name": "julia-1.4"
  },
  "language_info": {
   "file_extension": ".jl",
   "mimetype": "application/julia",
   "name": "julia",
   "version": "1.4.1"
  },
  "orig_nbformat": 4
 },
 "nbformat": 4,
 "nbformat_minor": 2
}
