{
 "cells": [
  {
   "cell_type": "code",
   "execution_count": 2,
   "metadata": {},
   "outputs": [],
   "source": [
    "using CSV\n",
    "using DataFrames\n",
    "using Plots\n",
    "using Eirene"
   ]
  },
  {
   "cell_type": "code",
   "execution_count": 3,
   "metadata": {},
   "outputs": [
    {
     "data": {
      "text/html": [
       "<table class=\"data-frame\"><thead><tr><th></th><th>Point X</th><th>Point Y</th><th>Street Address</th><th>City</th><th>Postal Code</th><th>Planting Site Width</th></tr><tr><th></th><th>Float64</th><th>Float64</th><th>String?</th><th>String?</th><th>Int64</th><th>Float64?</th></tr></thead><tbody><p>3 rows × 30 columns (omitted printing of 24 columns)</p><tr><th>1</th><td>-75.1473</td><td>39.9525</td><td>401-499 Arch St</td><td>Philadelphia</td><td>19106</td><td><em>missing</em></td></tr><tr><th>2</th><td>-75.1499</td><td>39.9535</td><td><em>missing</em></td><td>Philadelphia</td><td>19106</td><td><em>missing</em></td></tr><tr><th>3</th><td>-75.1527</td><td>39.9483</td><td>128 S 7th St</td><td>Philadelphia</td><td>19106</td><td><em>missing</em></td></tr></tbody></table>"
      ],
      "text/latex": [
       "\\begin{tabular}{r|ccccccc}\n",
       "\t& Point X & Point Y & Street Address & City & Postal Code & Planting Site Width & \\\\\n",
       "\t\\hline\n",
       "\t& Float64 & Float64 & String? & String? & Int64 & Float64? & \\\\\n",
       "\t\\hline\n",
       "\t1 & -75.1473 & 39.9525 & 401-499 Arch St & Philadelphia & 19106 & \\emph{missing} & $\\dots$ \\\\\n",
       "\t2 & -75.1499 & 39.9535 & \\emph{missing} & Philadelphia & 19106 & \\emph{missing} & $\\dots$ \\\\\n",
       "\t3 & -75.1527 & 39.9483 & 128 S 7th St & Philadelphia & 19106 & \\emph{missing} & $\\dots$ \\\\\n",
       "\\end{tabular}\n"
      ],
      "text/plain": [
       "\u001b[1m3×30 DataFrame\u001b[0m\n",
       "\u001b[1m Row \u001b[0m│\u001b[1m Point X  \u001b[0m\u001b[1m Point Y \u001b[0m\u001b[1m Street Address  \u001b[0m\u001b[1m City         \u001b[0m\u001b[1m Postal Code \u001b[0m\u001b[1m Planting\u001b[0m ⋯\n",
       "\u001b[1m     \u001b[0m│\u001b[90m Float64  \u001b[0m\u001b[90m Float64 \u001b[0m\u001b[90m String?         \u001b[0m\u001b[90m String?      \u001b[0m\u001b[90m Int64       \u001b[0m\u001b[90m Float64?\u001b[0m ⋯\n",
       "─────┼──────────────────────────────────────────────────────────────────────────\n",
       "   1 │ -75.1473  39.9525  401-499 Arch St  Philadelphia        19106 \u001b[90m         \u001b[0m ⋯\n",
       "   2 │ -75.1499  39.9535 \u001b[90m missing         \u001b[0m Philadelphia        19106 \u001b[90m\u001b[0m\n",
       "   3 │ -75.1527  39.9483  128 S 7th St     Philadelphia        19106 \u001b[90m\u001b[0m\n",
       "\u001b[36m                                                              25 columns omitted\u001b[0m"
      ]
     },
     "metadata": {},
     "output_type": "display_data"
    }
   ],
   "source": [
    "trees = DataFrame(CSV.File(\"tree_export.csv\"))\n",
    "first(trees,3)"
   ]
  },
  {
   "cell_type": "code",
   "execution_count": null,
   "metadata": {},
   "outputs": [],
   "source": []
  }
 ],
 "metadata": {
  "kernelspec": {
   "display_name": "Julia 1.4.1",
   "language": "julia",
   "name": "julia-1.4"
  },
  "language_info": {
   "file_extension": ".jl",
   "mimetype": "application/julia",
   "name": "julia",
   "version": "1.4.1"
  },
  "orig_nbformat": 4
 },
 "nbformat": 4,
 "nbformat_minor": 2
}
